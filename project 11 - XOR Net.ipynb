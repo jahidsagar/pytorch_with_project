{
 "cells": [
  {
   "cell_type": "code",
   "execution_count": 3,
   "id": "73fb1ed7",
   "metadata": {},
   "outputs": [],
   "source": [
    "import torch\n",
    "import torch.nn as nn\n",
    "from torchvision import datasets, transforms\n",
    "from torch.utils.data import DataLoader\n",
    "import torch.nn.functional as F"
   ]
  },
  {
   "cell_type": "code",
   "execution_count": 29,
   "id": "3cb8bb4b",
   "metadata": {},
   "outputs": [
    {
     "data": {
      "text/plain": [
       "(tensor([[0., 0.],\n",
       "         [0., 1.],\n",
       "         [1., 0.],\n",
       "         [1., 1.]]),\n",
       " tensor([[0.],\n",
       "         [1.],\n",
       "         [1.],\n",
       "         [0.]]))"
      ]
     },
     "execution_count": 29,
     "metadata": {},
     "output_type": "execute_result"
    }
   ],
   "source": [
    "X = torch.tensor([[0., 0.], [0., 1.], [1., 0.], [1., 1.]])\n",
    "y = torch.tensor([[0.], [1.], [1.], [0.]])\n",
    "X, y"
   ]
  },
  {
   "cell_type": "code",
   "execution_count": 30,
   "id": "10d7c3d1",
   "metadata": {},
   "outputs": [
    {
     "data": {
      "text/plain": [
       "(tensor([[0., 0.],\n",
       "         [0., 1.],\n",
       "         [1., 0.],\n",
       "         [1., 1.]]),\n",
       " tensor([[0.],\n",
       "         [1.],\n",
       "         [1.],\n",
       "         [0.]]))"
      ]
     },
     "execution_count": 30,
     "metadata": {},
     "output_type": "execute_result"
    }
   ],
   "source": [
    "X = torch.tensor([[0., 0.], [0., 1.], [1., 0.], [1., 1.]])\n",
    "Y = torch.tensor([[0.], [1.], [1.], [0.]])\n",
    "X,y"
   ]
  },
  {
   "cell_type": "code",
   "execution_count": 62,
   "id": "5af4329b",
   "metadata": {},
   "outputs": [],
   "source": [
    "class XORNet(nn.Module):\n",
    "    def __init__(self):\n",
    "        super(XORNet, self).__init__()\n",
    "        self.fc1 = nn.Linear(2,4)\n",
    "        self.fc2 = nn.Linear(4,8)\n",
    "        self.fc3 = nn.Linear(8,4)\n",
    "        self.out = nn.Linear(4,1)\n",
    "    \n",
    "    def forward(self, x):\n",
    "        x = self.fc1(x)\n",
    "        x = torch.sigmoid(x)\n",
    "        x = torch.relu(self.fc2(x))\n",
    "        x = torch.relu(self.fc3(x))\n",
    "        x = torch.sigmoid(self.out(x))\n",
    "        return x\n",
    "\n"
   ]
  },
  {
   "cell_type": "code",
   "execution_count": 65,
   "id": "2046b7b4",
   "metadata": {},
   "outputs": [],
   "source": [
    "model = XORNet()\n",
    "criterion = nn.BCELoss()\n",
    "optimizer = torch.optim.SGD(model.parameters(), lr=0.1)"
   ]
  },
  {
   "cell_type": "code",
   "execution_count": 66,
   "id": "c24f3446",
   "metadata": {},
   "outputs": [
    {
     "name": "stdout",
     "output_type": "stream",
     "text": [
      "Epoch 100, Loss: 0.6932\n",
      "Epoch 200, Loss: 0.6932\n",
      "Epoch 300, Loss: 0.6932\n",
      "Epoch 400, Loss: 0.6932\n",
      "Epoch 500, Loss: 0.6932\n",
      "Epoch 600, Loss: 0.6932\n",
      "Epoch 700, Loss: 0.6932\n",
      "Epoch 800, Loss: 0.6932\n",
      "Epoch 900, Loss: 0.6932\n",
      "Epoch 1000, Loss: 0.6932\n",
      "Epoch 1100, Loss: 0.6932\n",
      "Epoch 1200, Loss: 0.6932\n",
      "Epoch 1300, Loss: 0.6932\n",
      "Epoch 1400, Loss: 0.6932\n",
      "Epoch 1500, Loss: 0.6932\n",
      "Epoch 1600, Loss: 0.6932\n",
      "Epoch 1700, Loss: 0.6932\n",
      "Epoch 1800, Loss: 0.6932\n",
      "Epoch 1900, Loss: 0.6932\n",
      "Epoch 2000, Loss: 0.6932\n",
      "Epoch 2100, Loss: 0.6932\n",
      "Epoch 2200, Loss: 0.6932\n",
      "Epoch 2300, Loss: 0.6932\n",
      "Epoch 2400, Loss: 0.6932\n",
      "Epoch 2500, Loss: 0.6932\n",
      "Epoch 2600, Loss: 0.6932\n",
      "Epoch 2700, Loss: 0.6932\n",
      "Epoch 2800, Loss: 0.6932\n",
      "Epoch 2900, Loss: 0.6932\n",
      "Epoch 3000, Loss: 0.6932\n",
      "Epoch 3100, Loss: 0.6932\n",
      "Epoch 3200, Loss: 0.6932\n",
      "Epoch 3300, Loss: 0.6932\n",
      "Epoch 3400, Loss: 0.6932\n",
      "Epoch 3500, Loss: 0.6932\n",
      "Epoch 3600, Loss: 0.6932\n",
      "Epoch 3700, Loss: 0.6932\n",
      "Epoch 3800, Loss: 0.6932\n",
      "Epoch 3900, Loss: 0.6932\n",
      "Epoch 4000, Loss: 0.6932\n",
      "Epoch 4100, Loss: 0.6932\n",
      "Epoch 4200, Loss: 0.6932\n",
      "Epoch 4300, Loss: 0.6932\n",
      "Epoch 4400, Loss: 0.6932\n",
      "Epoch 4500, Loss: 0.6932\n",
      "Epoch 4600, Loss: 0.6932\n",
      "Epoch 4700, Loss: 0.6932\n",
      "Epoch 4800, Loss: 0.6932\n",
      "Epoch 4900, Loss: 0.6932\n",
      "Epoch 5000, Loss: 0.6932\n"
     ]
    }
   ],
   "source": [
    "for epoch in range(5000):\n",
    "    output = model(X)\n",
    "    loss = criterion(output, y)\n",
    "    optimizer.zero_grad()\n",
    "    loss.backward()\n",
    "    optimizer.step()\n",
    "\n",
    "    if (epoch + 1) % 100 == 0:\n",
    "        print(f\"Epoch {epoch+1}, Loss: {loss.item():.4f}\")"
   ]
  },
  {
   "cell_type": "code",
   "execution_count": 67,
   "id": "39544ad5",
   "metadata": {},
   "outputs": [
    {
     "name": "stdout",
     "output_type": "stream",
     "text": [
      "prediction:  tensor([[0.],\n",
      "        [0.],\n",
      "        [1.],\n",
      "        [1.]])\n"
     ]
    }
   ],
   "source": [
    "with torch.no_grad():\n",
    "    predict = model(X).round()\n",
    "    print(\"prediction: \", predict)"
   ]
  }
 ],
 "metadata": {
  "kernelspec": {
   "display_name": "cudaEnv",
   "language": "python",
   "name": "python3"
  },
  "language_info": {
   "codemirror_mode": {
    "name": "ipython",
    "version": 3
   },
   "file_extension": ".py",
   "mimetype": "text/x-python",
   "name": "python",
   "nbconvert_exporter": "python",
   "pygments_lexer": "ipython3",
   "version": "3.11.11"
  }
 },
 "nbformat": 4,
 "nbformat_minor": 5
}
