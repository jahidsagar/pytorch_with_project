{
 "cells": [
  {
   "cell_type": "markdown",
   "id": "f7c24903",
   "metadata": {},
   "source": [
    "# Load Library"
   ]
  },
  {
   "cell_type": "code",
   "execution_count": 2,
   "id": "eaa4f5af",
   "metadata": {},
   "outputs": [],
   "source": [
    "import torch\n",
    "import torch.nn as nn"
   ]
  },
  {
   "cell_type": "markdown",
   "id": "fbec4f15",
   "metadata": {},
   "source": [
    "# Create input and Output variable"
   ]
  },
  {
   "cell_type": "code",
   "execution_count": 3,
   "id": "08ab67e6",
   "metadata": {},
   "outputs": [
    {
     "data": {
      "text/plain": [
       "(tensor([[1.],\n",
       "         [2.],\n",
       "         [3.],\n",
       "         [4.]]),\n",
       " tensor([[2.],\n",
       "         [4.],\n",
       "         [6.],\n",
       "         [8.]]))"
      ]
     },
     "execution_count": 3,
     "metadata": {},
     "output_type": "execute_result"
    }
   ],
   "source": [
    "X = torch.tensor([\n",
    "    [1.0],\n",
    "    [2.0],\n",
    "    [3.0],\n",
    "    [4.0]\n",
    "])\n",
    "\n",
    "y = torch.tensor([\n",
    "    [2.0],\n",
    "    [4.0],\n",
    "    [6.0],\n",
    "    [8.0]\n",
    "])\n",
    "X, y"
   ]
  },
  {
   "cell_type": "markdown",
   "id": "bd766c73",
   "metadata": {},
   "source": [
    "# Create Linear Regression model only one input and one output\n",
    "\n",
    "y = mx + c"
   ]
  },
  {
   "cell_type": "code",
   "execution_count": 4,
   "id": "2ded0d5b",
   "metadata": {},
   "outputs": [],
   "source": [
    "model = nn.Linear(in_features=1, out_features=1)"
   ]
  },
  {
   "cell_type": "markdown",
   "id": "b9895371",
   "metadata": {},
   "source": [
    "# Define Loss function"
   ]
  },
  {
   "cell_type": "code",
   "execution_count": 5,
   "id": "3862ea3f",
   "metadata": {},
   "outputs": [],
   "source": [
    "criterion = nn.MSELoss()"
   ]
  },
  {
   "cell_type": "markdown",
   "id": "189bf2e9",
   "metadata": {},
   "source": [
    "# Define optimizer with Learning rate"
   ]
  },
  {
   "cell_type": "code",
   "execution_count": 6,
   "id": "29c40bf7",
   "metadata": {},
   "outputs": [],
   "source": [
    "optimizer = torch.optim.SGD(model.parameters(), lr=0.01)"
   ]
  },
  {
   "cell_type": "markdown",
   "id": "099f8066",
   "metadata": {},
   "source": [
    "# Training Loop"
   ]
  },
  {
   "cell_type": "code",
   "execution_count": 7,
   "id": "9832939d",
   "metadata": {},
   "outputs": [
    {
     "name": "stdout",
     "output_type": "stream",
     "text": [
      "Epoch 100, Loss: 0.0044\n",
      "Epoch 200, Loss: 0.0024\n",
      "Epoch 300, Loss: 0.0013\n",
      "Epoch 400, Loss: 0.0007\n",
      "Epoch 500, Loss: 0.0004\n",
      "Epoch 600, Loss: 0.0002\n",
      "Epoch 700, Loss: 0.0001\n",
      "Epoch 800, Loss: 0.0001\n",
      "Epoch 900, Loss: 0.0000\n",
      "Epoch 1000, Loss: 0.0000\n"
     ]
    }
   ],
   "source": [
    "for epoch in range(1000):\n",
    "    y_pred = model(X) # predict : Forward pass\n",
    "    loss = criterion(y_pred, y) # calculate loss\n",
    "    optimizer.zero_grad() # clear previous gradients\n",
    "    loss.backward() # backpropagation: compute gradients\n",
    "    optimizer.step() # update weights using gradients\n",
    "\n",
    "    if (epoch +1)%100 == 0:\n",
    "        print(f'Epoch {epoch+1}, Loss: {loss.item():.4f}')\n"
   ]
  },
  {
   "cell_type": "markdown",
   "id": "47602a1c",
   "metadata": {},
   "source": [
    "# After Training, print the learned weight and bias"
   ]
  },
  {
   "cell_type": "code",
   "execution_count": 10,
   "id": "1835b76d",
   "metadata": {},
   "outputs": [
    {
     "name": "stdout",
     "output_type": "stream",
     "text": [
      "Learned weight: 1.9963, Learned bias: 0.0108\n"
     ]
    }
   ],
   "source": [
    "params = list(model.parameters())\n",
    "print(f'Learned weight: {params[0].item():.4f}, Learned bias: {params[1].item():.4f}')"
   ]
  },
  {
   "cell_type": "code",
   "execution_count": 11,
   "id": "1c5873ad",
   "metadata": {},
   "outputs": [
    {
     "data": {
      "text/plain": [
       "[Parameter containing:\n",
       " tensor([[1.9963]], requires_grad=True),\n",
       " Parameter containing:\n",
       " tensor([0.0108], requires_grad=True)]"
      ]
     },
     "execution_count": 11,
     "metadata": {},
     "output_type": "execute_result"
    }
   ],
   "source": [
    "params"
   ]
  },
  {
   "cell_type": "code",
   "execution_count": 12,
   "id": "692a3545",
   "metadata": {},
   "outputs": [
    {
     "data": {
      "text/plain": [
       "OrderedDict([('weight', tensor([[1.9963]])), ('bias', tensor([0.0108]))])"
      ]
     },
     "execution_count": 12,
     "metadata": {},
     "output_type": "execute_result"
    }
   ],
   "source": [
    "model.state_dict()  # model parameters"
   ]
  }
 ],
 "metadata": {
  "kernelspec": {
   "display_name": "cudaEnv",
   "language": "python",
   "name": "python3"
  },
  "language_info": {
   "codemirror_mode": {
    "name": "ipython",
    "version": 3
   },
   "file_extension": ".py",
   "mimetype": "text/x-python",
   "name": "python",
   "nbconvert_exporter": "python",
   "pygments_lexer": "ipython3",
   "version": "3.11.11"
  }
 },
 "nbformat": 4,
 "nbformat_minor": 5
}
