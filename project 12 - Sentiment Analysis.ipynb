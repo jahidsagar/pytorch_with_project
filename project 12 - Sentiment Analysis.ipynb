{
 "cells": [
  {
   "cell_type": "code",
   "execution_count": 4,
   "id": "3513ee5d",
   "metadata": {},
   "outputs": [],
   "source": [
    "import torch\n",
    "import torch.nn as nn\n",
    "from torch.utils.data import DataLoader\n",
    "import torch.nn.functional as F\n",
    "from torchvision import transforms, datasets\n",
    "import matplotlib.pyplot as plt\n",
    "import seaborn as sns\n",
    "import pandas as pd\n",
    "import numpy as np\n",
    "from sklearn.feature_extraction.text import CountVectorizer\n",
    "from sklearn.model_selection import train_test_split\n"
   ]
  },
  {
   "cell_type": "code",
   "execution_count": 27,
   "id": "98387035",
   "metadata": {},
   "outputs": [
    {
     "data": {
      "text/html": [
       "<div>\n",
       "<style scoped>\n",
       "    .dataframe tbody tr th:only-of-type {\n",
       "        vertical-align: middle;\n",
       "    }\n",
       "\n",
       "    .dataframe tbody tr th {\n",
       "        vertical-align: top;\n",
       "    }\n",
       "\n",
       "    .dataframe thead th {\n",
       "        text-align: right;\n",
       "    }\n",
       "</style>\n",
       "<table border=\"1\" class=\"dataframe\">\n",
       "  <thead>\n",
       "    <tr style=\"text-align: right;\">\n",
       "      <th></th>\n",
       "      <th>label</th>\n",
       "      <th>text</th>\n",
       "    </tr>\n",
       "  </thead>\n",
       "  <tbody>\n",
       "    <tr>\n",
       "      <th>21</th>\n",
       "      <td>neg</td>\n",
       "      <td>ভারত তোমরা আমাদের নামের বন্ধু প্রকৃত বন্ধু নও ...</td>\n",
       "    </tr>\n",
       "    <tr>\n",
       "      <th>39</th>\n",
       "      <td>neg</td>\n",
       "      <td>ভারতের ৪০% জনগণ এখনও খোলা জায়গায় টয়লেট করে এর ...</td>\n",
       "    </tr>\n",
       "    <tr>\n",
       "      <th>7</th>\n",
       "      <td>pos</td>\n",
       "      <td>আশা ছিল আমাদের ও জাতীয় দল খেলুক।কিন্তু আজ ও বি...</td>\n",
       "    </tr>\n",
       "    <tr>\n",
       "      <th>11</th>\n",
       "      <td>neg</td>\n",
       "      <td>মনে হচ্ছে,পশ্চিমবঙ্গবাসীর খুব জ্বলছে?</td>\n",
       "    </tr>\n",
       "    <tr>\n",
       "      <th>22</th>\n",
       "      <td>pos</td>\n",
       "      <td>যখনই শুনেছি পরীক্ষা অস্ট্রেলিয়ার ব্রিসবেন এ হব...</td>\n",
       "    </tr>\n",
       "  </tbody>\n",
       "</table>\n",
       "</div>"
      ],
      "text/plain": [
       "   label                                               text\n",
       "21   neg  ভারত তোমরা আমাদের নামের বন্ধু প্রকৃত বন্ধু নও ...\n",
       "39   neg  ভারতের ৪০% জনগণ এখনও খোলা জায়গায় টয়লেট করে এর ...\n",
       "7    pos  আশা ছিল আমাদের ও জাতীয় দল খেলুক।কিন্তু আজ ও বি...\n",
       "11   neg              মনে হচ্ছে,পশ্চিমবঙ্গবাসীর খুব জ্বলছে?\n",
       "22   pos  যখনই শুনেছি পরীক্ষা অস্ট্রেলিয়ার ব্রিসবেন এ হব..."
      ]
     },
     "execution_count": 27,
     "metadata": {},
     "output_type": "execute_result"
    }
   ],
   "source": [
    "data_dir = 'data/bangla_sentiment.csv'\n",
    "df = pd.read_csv(data_dir)\n",
    "df.sample(5)"
   ]
  },
  {
   "cell_type": "code",
   "execution_count": 28,
   "id": "d3dd8054",
   "metadata": {},
   "outputs": [
    {
     "data": {
      "text/plain": [
       "<Axes: xlabel='label', ylabel='count'>"
      ]
     },
     "execution_count": 28,
     "metadata": {},
     "output_type": "execute_result"
    },
    {
     "data": {
      "image/png": "[encoded data removed]",
      "text/plain": [
       "<Figure size 640x480 with 1 Axes>"
      ]
     },
     "metadata": {},
     "output_type": "display_data"
    }
   ],
   "source": [
    "label_count = df['label'].value_counts().reset_index()\n",
    "sns.barplot(x = 'label' , y = 'count', data=label_count)"
   ]
  },
  {
   "cell_type": "markdown",
   "id": "164f588a",
   "metadata": {},
   "source": [
    "remove unknown label"
   ]
  },
  {
   "cell_type": "code",
   "execution_count": 29,
   "id": "77140bc0",
   "metadata": {},
   "outputs": [
    {
     "data": {
      "text/plain": [
       "<Axes: xlabel='label', ylabel='count'>"
      ]
     },
     "execution_count": 29,
     "metadata": {},
     "output_type": "execute_result"
    },
    {
     "data": {
      "image/png": "[encoded data removed]",
      "text/plain": [
       "<Figure size 640x480 with 1 Axes>"
      ]
     },
     "metadata": {},
     "output_type": "display_data"
    }
   ],
   "source": [
    "df = df[df['label'] != 'ntr']\n",
    "label_count = df['label'].value_counts().reset_index()\n",
    "sns.barplot(x = 'label' , y = 'count', data=label_count)"
   ]
  },
  {
   "cell_type": "markdown",
   "id": "13adad57",
   "metadata": {},
   "source": [
    "ordinal encoding"
   ]
  },
  {
   "cell_type": "code",
   "execution_count": 30,
   "id": "df5455f6",
   "metadata": {},
   "outputs": [],
   "source": [
    "df['label_encoded'] = df['label'].map({'neg': 0, 'pos': 1})"
   ]
  },
  {
   "cell_type": "code",
   "execution_count": 31,
   "id": "368f656c",
   "metadata": {},
   "outputs": [
    {
     "data": {
      "text/html": [
       "<div>\n",
       "<style scoped>\n",
       "    .dataframe tbody tr th:only-of-type {\n",
       "        vertical-align: middle;\n",
       "    }\n",
       "\n",
       "    .dataframe tbody tr th {\n",
       "        vertical-align: top;\n",
       "    }\n",
       "\n",
       "    .dataframe thead th {\n",
       "        text-align: right;\n",
       "    }\n",
       "</style>\n",
       "<table border=\"1\" class=\"dataframe\">\n",
       "  <thead>\n",
       "    <tr style=\"text-align: right;\">\n",
       "      <th></th>\n",
       "      <th>label</th>\n",
       "      <th>text</th>\n",
       "      <th>label_encoded</th>\n",
       "    </tr>\n",
       "  </thead>\n",
       "  <tbody>\n",
       "    <tr>\n",
       "      <th>10</th>\n",
       "      <td>neg</td>\n",
       "      <td>ফালতু</td>\n",
       "      <td>0</td>\n",
       "    </tr>\n",
       "    <tr>\n",
       "      <th>6</th>\n",
       "      <td>pos</td>\n",
       "      <td>অভিনন্দন বাংলাদেশের গর্ব।দোয়া করি এমন ভাবেই তো...</td>\n",
       "      <td>1</td>\n",
       "    </tr>\n",
       "    <tr>\n",
       "      <th>34</th>\n",
       "      <td>pos</td>\n",
       "      <td>hats off to the gentleman.. একজন টাইগার ভক্তের...</td>\n",
       "      <td>1</td>\n",
       "    </tr>\n",
       "    <tr>\n",
       "      <th>44</th>\n",
       "      <td>pos</td>\n",
       "      <td>তাসকিন কে রাখার জন্য ধন্যবাদ।</td>\n",
       "      <td>1</td>\n",
       "    </tr>\n",
       "    <tr>\n",
       "      <th>24</th>\n",
       "      <td>neg</td>\n",
       "      <td>খুশি হওয়ার কিছু নাই৷ ICC এ ৱকম সিদ্ধান্ত নিবে ...</td>\n",
       "      <td>0</td>\n",
       "    </tr>\n",
       "    <tr>\n",
       "      <th>18</th>\n",
       "      <td>neg</td>\n",
       "      <td>শুনে এত্তগুলান ভাল্লাগছে ☺ কিন্তু যে জানোয়ারের...</td>\n",
       "      <td>0</td>\n",
       "    </tr>\n",
       "    <tr>\n",
       "      <th>26</th>\n",
       "      <td>pos</td>\n",
       "      <td>আলহামদুলিল্লাহ খবরটা শুনে ভাল লাগলো।বিসিবি দল ...</td>\n",
       "      <td>1</td>\n",
       "    </tr>\n",
       "    <tr>\n",
       "      <th>8</th>\n",
       "      <td>pos</td>\n",
       "      <td>এটা আমাদের বাংলাদেশের গর্ব সাবাস বাই মোস্তাফিজ</td>\n",
       "      <td>1</td>\n",
       "    </tr>\n",
       "  </tbody>\n",
       "</table>\n",
       "</div>"
      ],
      "text/plain": [
       "   label                                               text  label_encoded\n",
       "10   neg                                              ফালতু              0\n",
       "6    pos  অভিনন্দন বাংলাদেশের গর্ব।দোয়া করি এমন ভাবেই তো...              1\n",
       "34   pos  hats off to the gentleman.. একজন টাইগার ভক্তের...              1\n",
       "44   pos                      তাসকিন কে রাখার জন্য ধন্যবাদ।              1\n",
       "24   neg  খুশি হওয়ার কিছু নাই৷ ICC এ ৱকম সিদ্ধান্ত নিবে ...              0\n",
       "18   neg  শুনে এত্তগুলান ভাল্লাগছে ☺ কিন্তু যে জানোয়ারের...              0\n",
       "26   pos  আলহামদুলিল্লাহ খবরটা শুনে ভাল লাগলো।বিসিবি দল ...              1\n",
       "8    pos     এটা আমাদের বাংলাদেশের গর্ব সাবাস বাই মোস্তাফিজ              1"
      ]
     },
     "execution_count": 31,
     "metadata": {},
     "output_type": "execute_result"
    }
   ],
   "source": [
    "df.sample(8)"
   ]
  },
  {
   "cell_type": "markdown",
   "id": "fdaa3995",
   "metadata": {},
   "source": [
    "For practice purpose, I am skipping the preprocessing part, like remove stop words, punctuations, stem, lemmatization etc."
   ]
  },
  {
   "cell_type": "code",
   "execution_count": 50,
   "id": "dd0cac00",
   "metadata": {},
   "outputs": [
    {
     "data": {
      "text/plain": [
       "[1,\n",
       " 0,\n",
       " 1,\n",
       " 1,\n",
       " 1,\n",
       " 1,\n",
       " 1,\n",
       " 1,\n",
       " 1,\n",
       " 0,\n",
       " 0,\n",
       " 0,\n",
       " 0,\n",
       " 1,\n",
       " 0,\n",
       " 0,\n",
       " 0,\n",
       " 0,\n",
       " 0,\n",
       " 0,\n",
       " 1,\n",
       " 0,\n",
       " 1,\n",
       " 0,\n",
       " 0,\n",
       " 0,\n",
       " 1,\n",
       " 1,\n",
       " 0,\n",
       " 0,\n",
       " 1,\n",
       " 1,\n",
       " 1,\n",
       " 0,\n",
       " 1,\n",
       " 0,\n",
       " 0,\n",
       " 0,\n",
       " 1,\n",
       " 0,\n",
       " 1,\n",
       " 0,\n",
       " 0,\n",
       " 1]"
      ]
     },
     "execution_count": 50,
     "metadata": {},
     "output_type": "execute_result"
    }
   ],
   "source": [
    "vectorizer = CountVectorizer()\n",
    "X = vectorizer.fit_transform(df['text'].tolist()).toarray()\n",
    "y = df['label_encoded'].tolist()\n",
    "y"
   ]
  },
  {
   "cell_type": "code",
   "execution_count": 51,
   "id": "e7690b60",
   "metadata": {},
   "outputs": [
    {
     "data": {
      "text/plain": [
       "(tensor([[0., 0., 0.,  ..., 0., 0., 0.],\n",
       "         [0., 0., 0.,  ..., 0., 0., 0.],\n",
       "         [0., 0., 0.,  ..., 0., 0., 0.],\n",
       "         ...,\n",
       "         [0., 0., 0.,  ..., 0., 0., 0.],\n",
       "         [0., 0., 0.,  ..., 0., 0., 0.],\n",
       "         [0., 0., 0.,  ..., 0., 0., 0.]]),\n",
       " tensor([[1.],\n",
       "         [0.],\n",
       "         [1.],\n",
       "         [1.],\n",
       "         [1.],\n",
       "         [1.],\n",
       "         [1.],\n",
       "         [1.],\n",
       "         [1.],\n",
       "         [0.],\n",
       "         [0.],\n",
       "         [0.],\n",
       "         [0.],\n",
       "         [1.],\n",
       "         [0.],\n",
       "         [0.],\n",
       "         [0.],\n",
       "         [0.],\n",
       "         [0.],\n",
       "         [0.],\n",
       "         [1.],\n",
       "         [0.],\n",
       "         [1.],\n",
       "         [0.],\n",
       "         [0.],\n",
       "         [0.],\n",
       "         [1.],\n",
       "         [1.],\n",
       "         [0.],\n",
       "         [0.],\n",
       "         [1.],\n",
       "         [1.],\n",
       "         [1.],\n",
       "         [0.],\n",
       "         [1.],\n",
       "         [0.],\n",
       "         [0.],\n",
       "         [0.],\n",
       "         [1.],\n",
       "         [0.],\n",
       "         [1.],\n",
       "         [0.],\n",
       "         [0.],\n",
       "         [1.]]))"
      ]
     },
     "execution_count": 51,
     "metadata": {},
     "output_type": "execute_result"
    }
   ],
   "source": [
    "y = torch.tensor(y).float().unsqueeze(1)\n",
    "X = torch.tensor(X).float()\n",
    "X, y"
   ]
  },
  {
   "cell_type": "markdown",
   "id": "d36eb274",
   "metadata": {},
   "source": [
    "Now making our model"
   ]
  },
  {
   "cell_type": "code",
   "execution_count": 57,
   "id": "e692e11c",
   "metadata": {},
   "outputs": [],
   "source": [
    "class BagOfWords(nn.Module):\n",
    "    def __init__(self, inputDim):\n",
    "        super(BagOfWords, self).__init__()\n",
    "        self.fc1 = nn.Linear(inputDim, inputDim*2)\n",
    "        self.fc2 = nn.Linear(inputDim*2, inputDim)\n",
    "        self.out = nn.Linear(inputDim, 1)\n",
    "\n",
    "    def forward(self, x):\n",
    "        x = self.fc1(x)\n",
    "        x = torch.sigmoid(self.fc2(x))\n",
    "        x = torch.sigmoid(self.out(x))\n",
    "        return x\n"
   ]
  },
  {
   "cell_type": "code",
   "execution_count": 63,
   "id": "569261db",
   "metadata": {},
   "outputs": [],
   "source": [
    "row, col = X.shape\n",
    "model = BagOfWords(col)\n",
    "criterion = nn.BCELoss()\n",
    "optimizer = torch.optim.Adam(model.parameters(), lr = 0.01)"
   ]
  },
  {
   "cell_type": "code",
   "execution_count": 59,
   "id": "76d4847a",
   "metadata": {},
   "outputs": [
    {
     "data": {
      "text/plain": [
       "OrderedDict([('fc1.weight',\n",
       "              tensor([[ 0.0045, -0.0197,  0.0658,  ..., -0.0431,  0.0457, -0.0312],\n",
       "                      [ 0.0024,  0.0538, -0.0160,  ..., -0.0015, -0.0424, -0.0175],\n",
       "                      [-0.0141, -0.0344, -0.0468,  ...,  0.0108, -0.0044, -0.0417],\n",
       "                      ...,\n",
       "                      [-0.0151, -0.0150, -0.0082,  ...,  0.0671,  0.0639, -0.0222],\n",
       "                      [-0.0188, -0.0238, -0.0527,  ..., -0.0517, -0.0423,  0.0037],\n",
       "                      [-0.0447,  0.0191, -0.0069,  ..., -0.0572, -0.0005,  0.0159]])),\n",
       "             ('fc1.bias',\n",
       "              tensor([-0.0341,  0.0380, -0.0453,  0.0275, -0.0012, -0.0265,  0.0368,  0.0443,\n",
       "                       0.0257, -0.0217, -0.0148, -0.0588, -0.0409, -0.0041,  0.0645, -0.0338,\n",
       "                       0.0474,  0.0494, -0.0664,  0.0176, -0.0654, -0.0383,  0.0124, -0.0481,\n",
       "                       0.0340, -0.0138,  0.0185,  0.0392, -0.0472, -0.0360, -0.0103,  0.0065,\n",
       "                       0.0302,  0.0645, -0.0492,  0.0129,  0.0504, -0.0263,  0.0050, -0.0006,\n",
       "                       0.0045, -0.0626, -0.0549, -0.0269,  0.0353,  0.0377, -0.0311, -0.0237,\n",
       "                       0.0286,  0.0665,  0.0438, -0.0612,  0.0315,  0.0666, -0.0419, -0.0160,\n",
       "                       0.0097,  0.0266, -0.0255, -0.0551,  0.0163,  0.0493, -0.0149, -0.0650,\n",
       "                      -0.0213,  0.0518, -0.0633, -0.0514, -0.0187, -0.0031, -0.0301,  0.0553,\n",
       "                       0.0259,  0.0503,  0.0428, -0.0381,  0.0419, -0.0141, -0.0054,  0.0664,\n",
       "                       0.0478, -0.0249, -0.0423,  0.0675, -0.0538,  0.0632, -0.0084, -0.0275,\n",
       "                      -0.0092,  0.0044, -0.0500, -0.0221,  0.0239,  0.0052, -0.0140,  0.0261,\n",
       "                       0.0196,  0.0643, -0.0217, -0.0401,  0.0479, -0.0062,  0.0498,  0.0468,\n",
       "                      -0.0184,  0.0088, -0.0194,  0.0626,  0.0025,  0.0037,  0.0518,  0.0608,\n",
       "                       0.0345,  0.0198, -0.0385, -0.0198,  0.0451,  0.0236, -0.0197, -0.0251,\n",
       "                       0.0007,  0.0626,  0.0045, -0.0369, -0.0508,  0.0387,  0.0471, -0.0013,\n",
       "                       0.0555,  0.0431, -0.0156, -0.0590, -0.0225, -0.0500,  0.0373,  0.0204,\n",
       "                       0.0303,  0.0434,  0.0602, -0.0490, -0.0041, -0.0202, -0.0225,  0.0583,\n",
       "                      -0.0467, -0.0484,  0.0236, -0.0031, -0.0589,  0.0157,  0.0354, -0.0606,\n",
       "                      -0.0601,  0.0421,  0.0220,  0.0247,  0.0384,  0.0466, -0.0348, -0.0362,\n",
       "                       0.0612, -0.0450, -0.0532,  0.0458,  0.0663, -0.0522, -0.0151,  0.0184,\n",
       "                       0.0368,  0.0389, -0.0453, -0.0630, -0.0299,  0.0053, -0.0187,  0.0102,\n",
       "                       0.0264,  0.0199, -0.0528, -0.0090, -0.0062, -0.0102,  0.0313, -0.0460,\n",
       "                       0.0489, -0.0489,  0.0642,  0.0022, -0.0345,  0.0176, -0.0348, -0.0510,\n",
       "                      -0.0265,  0.0190,  0.0586, -0.0559,  0.0450, -0.0058, -0.0537, -0.0667,\n",
       "                       0.0598,  0.0628, -0.0141, -0.0452, -0.0355, -0.0018,  0.0175, -0.0392,\n",
       "                       0.0674, -0.0661, -0.0438,  0.0189,  0.0234, -0.0135,  0.0002, -0.0014,\n",
       "                      -0.0061, -0.0160, -0.0481,  0.0023,  0.0131,  0.0165, -0.0376,  0.0116,\n",
       "                      -0.0427, -0.0552, -0.0230,  0.0159,  0.0680, -0.0258, -0.0308,  0.0646,\n",
       "                       0.0528,  0.0212, -0.0194, -0.0512,  0.0363,  0.0345, -0.0593,  0.0112,\n",
       "                      -0.0189, -0.0507, -0.0191, -0.0527, -0.0388, -0.0386, -0.0610, -0.0570,\n",
       "                      -0.0284,  0.0068,  0.0619, -0.0376, -0.0060,  0.0061, -0.0209, -0.0399,\n",
       "                      -0.0445, -0.0169, -0.0091,  0.0147, -0.0159, -0.0428,  0.0289,  0.0570,\n",
       "                      -0.0291, -0.0209,  0.0531,  0.0566,  0.0259, -0.0552,  0.0136,  0.0508,\n",
       "                      -0.0220, -0.0225, -0.0039, -0.0275, -0.0328,  0.0428, -0.0511,  0.0548,\n",
       "                       0.0199, -0.0236, -0.0459, -0.0621, -0.0018, -0.0392, -0.0542, -0.0620,\n",
       "                       0.0081, -0.0601,  0.0354,  0.0576, -0.0501, -0.0636, -0.0337,  0.0481,\n",
       "                      -0.0678, -0.0527,  0.0484, -0.0197, -0.0536, -0.0333,  0.0504, -0.0506,\n",
       "                      -0.0643, -0.0601,  0.0293, -0.0587, -0.0659,  0.0070,  0.0047,  0.0460,\n",
       "                      -0.0023, -0.0670,  0.0427,  0.0218, -0.0056,  0.0501,  0.0356,  0.0435,\n",
       "                       0.0127,  0.0244, -0.0539, -0.0658,  0.0521, -0.0537, -0.0599,  0.0268,\n",
       "                      -0.0167, -0.0379,  0.0523,  0.0557, -0.0214, -0.0230, -0.0199, -0.0578,\n",
       "                       0.0611,  0.0512, -0.0362, -0.0446, -0.0052, -0.0438, -0.0666,  0.0393,\n",
       "                      -0.0516, -0.0175, -0.0638,  0.0217,  0.0100,  0.0491, -0.0317, -0.0371,\n",
       "                       0.0106, -0.0002, -0.0422,  0.0631, -0.0355,  0.0169, -0.0074,  0.0305,\n",
       "                       0.0681, -0.0548, -0.0456,  0.0603, -0.0212, -0.0464,  0.0304,  0.0378,\n",
       "                       0.0327,  0.0150,  0.0435,  0.0032,  0.0477,  0.0609, -0.0465,  0.0106,\n",
       "                      -0.0306,  0.0312,  0.0395,  0.0568, -0.0347, -0.0387, -0.0071, -0.0092,\n",
       "                       0.0045, -0.0488, -0.0617, -0.0256,  0.0368, -0.0114, -0.0281, -0.0600,\n",
       "                       0.0441,  0.0587, -0.0419, -0.0190, -0.0066, -0.0031, -0.0495,  0.0643,\n",
       "                       0.0094,  0.0531,  0.0556, -0.0062,  0.0551, -0.0618,  0.0211, -0.0295,\n",
       "                       0.0589,  0.0379,  0.0226, -0.0518, -0.0588, -0.0201, -0.0024, -0.0186,\n",
       "                      -0.0127,  0.0451, -0.0287, -0.0169,  0.0227, -0.0679, -0.0353, -0.0349,\n",
       "                      -0.0178, -0.0548,  0.0584, -0.0190])),\n",
       "             ('fc2.weight',\n",
       "              tensor([[ 0.0357, -0.0367, -0.0263,  ...,  0.0023, -0.0039, -0.0223],\n",
       "                      [ 0.0093, -0.0274, -0.0407,  ..., -0.0166,  0.0075,  0.0465],\n",
       "                      [-0.0050,  0.0198,  0.0189,  ...,  0.0166, -0.0258, -0.0147],\n",
       "                      ...,\n",
       "                      [-0.0448,  0.0031,  0.0002,  ...,  0.0310,  0.0345, -0.0023],\n",
       "                      [-0.0212,  0.0059,  0.0456,  ..., -0.0449,  0.0286, -0.0009],\n",
       "                      [-0.0192,  0.0120, -0.0268,  ..., -0.0194, -0.0472,  0.0306]])),\n",
       "             ('fc2.bias',\n",
       "              tensor([ 1.1773e-02, -2.9823e-02,  3.5010e-02,  6.1501e-03, -1.8384e-02,\n",
       "                      -4.3898e-02,  1.1219e-03,  3.2288e-02, -3.6806e-02,  2.2382e-02,\n",
       "                       4.3120e-02,  9.0917e-03, -2.3361e-05, -1.0306e-02, -8.4152e-03,\n",
       "                      -1.7769e-02, -4.0585e-02,  9.7696e-04, -2.4832e-02,  4.7677e-02,\n",
       "                      -2.9567e-02,  1.5502e-02,  1.0551e-02, -3.9603e-02, -2.9247e-02,\n",
       "                      -3.4541e-02, -3.3675e-02,  2.3278e-02,  2.7762e-02,  3.7948e-02,\n",
       "                      -2.3520e-03,  3.0959e-02, -2.4350e-02, -1.3388e-02, -3.8386e-02,\n",
       "                      -1.9049e-02, -3.5143e-02,  6.5090e-03, -1.6812e-02, -1.5401e-02,\n",
       "                       5.5532e-04, -4.4381e-02, -3.0134e-02, -2.4730e-02, -3.8525e-02,\n",
       "                       3.6634e-02, -2.0671e-02, -4.1846e-02,  4.0801e-02, -2.3465e-02,\n",
       "                       3.8108e-02, -6.9677e-03, -3.7506e-02, -3.7942e-02, -4.1935e-02,\n",
       "                      -4.3668e-02, -1.4136e-02,  2.6524e-02, -4.2214e-02, -4.1829e-02,\n",
       "                      -3.4404e-03,  3.8393e-02, -4.3627e-02,  3.8577e-03,  4.6464e-02,\n",
       "                       8.8054e-03,  2.8155e-02, -4.5675e-02, -1.2907e-02, -1.6525e-02,\n",
       "                       4.7937e-02, -4.2543e-02,  4.2815e-02, -1.2857e-02, -1.8240e-02,\n",
       "                      -9.6763e-03, -3.3416e-02, -2.2619e-02, -4.1194e-02,  1.3786e-02,\n",
       "                      -3.2710e-02,  1.2538e-02, -7.3389e-03,  2.5108e-02,  2.2490e-02,\n",
       "                       1.8596e-02,  4.4609e-02, -8.1492e-03, -6.0551e-03,  1.4901e-03,\n",
       "                       1.5538e-02, -1.5713e-02, -3.9230e-03, -1.8100e-02,  1.2045e-02,\n",
       "                      -4.5039e-02, -4.1463e-02, -4.3513e-02, -2.0016e-02,  3.4992e-02,\n",
       "                      -1.2554e-02,  3.4334e-02,  1.2874e-02, -2.6065e-02, -3.7255e-02,\n",
       "                       9.1675e-03,  1.6137e-02,  1.0744e-02,  4.4834e-02,  4.2023e-02,\n",
       "                       1.1837e-02,  3.4779e-02, -3.2850e-02,  3.0343e-03, -4.6289e-02,\n",
       "                      -8.7551e-03, -3.0435e-02,  2.4511e-02, -2.1113e-03,  7.4916e-03,\n",
       "                      -1.6678e-02,  1.4201e-02,  3.0747e-02, -3.5503e-02,  1.7859e-02,\n",
       "                       4.7560e-02, -4.4893e-02,  4.6458e-02,  1.5938e-02,  1.5492e-02,\n",
       "                       1.8630e-02,  3.5156e-02, -2.9486e-02, -2.1181e-02,  3.2191e-02,\n",
       "                       3.0822e-02,  1.3154e-02, -3.2051e-02, -3.2860e-02,  3.3666e-02,\n",
       "                      -2.3489e-02, -2.0236e-02, -4.0863e-02, -3.3732e-02,  2.3014e-02,\n",
       "                       6.4421e-03,  3.6259e-02,  8.0754e-03, -8.0658e-03, -6.6890e-03,\n",
       "                       2.9171e-02,  2.9192e-02, -7.7352e-03, -2.2403e-02, -2.4065e-02,\n",
       "                      -4.1080e-02,  2.5003e-03, -1.8185e-02,  2.5868e-02,  4.2248e-02,\n",
       "                       1.4936e-02,  1.0998e-02, -3.7583e-02,  2.1016e-02, -3.9673e-02,\n",
       "                       4.2759e-02,  2.6822e-02, -3.6534e-02,  1.1127e-02, -2.1211e-02,\n",
       "                       1.5189e-02,  1.3233e-02, -2.0503e-03,  4.1490e-02,  1.6672e-02,\n",
       "                      -1.9379e-02,  2.6373e-02,  3.1170e-02,  3.8564e-02,  4.0710e-02,\n",
       "                      -2.8643e-02,  2.6830e-02,  1.0446e-02,  3.3553e-02,  2.1488e-03,\n",
       "                       1.0603e-02,  2.8773e-02,  3.9302e-02, -5.9783e-03, -9.2473e-03,\n",
       "                      -1.4651e-02,  1.5976e-02, -2.4827e-03,  3.0346e-02, -3.8542e-02,\n",
       "                      -6.5640e-03,  3.4353e-02,  7.2996e-03,  8.8734e-03, -2.2854e-02,\n",
       "                      -3.7494e-02, -3.6549e-02, -1.7911e-02,  4.6378e-02, -1.4313e-02,\n",
       "                       3.0278e-02,  1.1608e-03, -4.8125e-02, -1.4719e-02, -8.9335e-03,\n",
       "                      -1.7279e-02,  4.5644e-02, -3.4335e-02, -3.3054e-02])),\n",
       "             ('out.weight',\n",
       "              tensor([[-0.0129,  0.0161,  0.0683, -0.0133, -0.0150,  0.0048, -0.0592, -0.0002,\n",
       "                       -0.0214, -0.0560,  0.0283, -0.0040,  0.0517, -0.0389, -0.0023,  0.0591,\n",
       "                       -0.0229,  0.0565, -0.0241,  0.0606, -0.0498, -0.0103, -0.0502, -0.0373,\n",
       "                        0.0505, -0.0428,  0.0004,  0.0162,  0.0075,  0.0662, -0.0328,  0.0050,\n",
       "                       -0.0229,  0.0502,  0.0536, -0.0041,  0.0223, -0.0528,  0.0437,  0.0366,\n",
       "                       -0.0324,  0.0389, -0.0144,  0.0358, -0.0402, -0.0028,  0.0070,  0.0429,\n",
       "                       -0.0540,  0.0008, -0.0013,  0.0237, -0.0586, -0.0174,  0.0641,  0.0406,\n",
       "                        0.0246, -0.0279,  0.0574,  0.0254, -0.0601,  0.0524, -0.0501, -0.0007,\n",
       "                        0.0328,  0.0083,  0.0250, -0.0231,  0.0464,  0.0064, -0.0622,  0.0262,\n",
       "                       -0.0611, -0.0136, -0.0384,  0.0312,  0.0477, -0.0212, -0.0020,  0.0445,\n",
       "                       -0.0426, -0.0084,  0.0298, -0.0038,  0.0348,  0.0568,  0.0461,  0.0467,\n",
       "                        0.0545, -0.0436, -0.0565, -0.0170, -0.0618, -0.0279, -0.0070, -0.0425,\n",
       "                        0.0645,  0.0482,  0.0510, -0.0029,  0.0581, -0.0040,  0.0115,  0.0072,\n",
       "                        0.0198, -0.0123, -0.0592,  0.0308, -0.0346,  0.0025, -0.0016,  0.0369,\n",
       "                       -0.0299, -0.0004,  0.0252, -0.0010,  0.0430, -0.0321,  0.0363,  0.0662,\n",
       "                       -0.0660,  0.0226,  0.0288,  0.0129, -0.0580,  0.0639, -0.0335, -0.0575,\n",
       "                        0.0553,  0.0385, -0.0036,  0.0159, -0.0656,  0.0542, -0.0456, -0.0354,\n",
       "                       -0.0122,  0.0199,  0.0066, -0.0378, -0.0251, -0.0084,  0.0297,  0.0133,\n",
       "                       -0.0683,  0.0071,  0.0528, -0.0530, -0.0307, -0.0499,  0.0598,  0.0054,\n",
       "                        0.0225, -0.0407, -0.0030, -0.0127,  0.0646, -0.0462,  0.0678, -0.0588,\n",
       "                        0.0332,  0.0523, -0.0170, -0.0625,  0.0389, -0.0647,  0.0542,  0.0285,\n",
       "                       -0.0381,  0.0611, -0.0340, -0.0622, -0.0472, -0.0259,  0.0029,  0.0515,\n",
       "                        0.0351,  0.0440,  0.0625,  0.0108, -0.0030, -0.0496,  0.0051,  0.0419,\n",
       "                       -0.0634, -0.0141,  0.0325, -0.0454,  0.0042,  0.0064,  0.0097, -0.0403,\n",
       "                       -0.0153,  0.0335, -0.0275,  0.0261, -0.0344,  0.0054,  0.0156, -0.0383,\n",
       "                       -0.0269, -0.0103,  0.0407, -0.0638,  0.0116, -0.0615, -0.0448,  0.0657,\n",
       "                        0.0270,  0.0254, -0.0423,  0.0519,  0.0061, -0.0177]])),\n",
       "             ('out.bias', tensor([0.0646]))])"
      ]
     },
     "execution_count": 59,
     "metadata": {},
     "output_type": "execute_result"
    }
   ],
   "source": [
    "model.state_dict()"
   ]
  },
  {
   "cell_type": "code",
   "execution_count": 60,
   "id": "abf4bfd3",
   "metadata": {},
   "outputs": [
    {
     "data": {
      "text/plain": [
       "tensor([[1.],\n",
       "        [0.],\n",
       "        [0.],\n",
       "        [0.],\n",
       "        [1.],\n",
       "        [0.],\n",
       "        [1.],\n",
       "        [0.],\n",
       "        [1.],\n",
       "        [0.],\n",
       "        [0.],\n",
       "        [0.],\n",
       "        [0.],\n",
       "        [1.],\n",
       "        [1.],\n",
       "        [0.],\n",
       "        [1.],\n",
       "        [0.],\n",
       "        [0.],\n",
       "        [1.],\n",
       "        [0.],\n",
       "        [0.],\n",
       "        [1.],\n",
       "        [1.],\n",
       "        [1.],\n",
       "        [0.],\n",
       "        [1.],\n",
       "        [0.],\n",
       "        [1.],\n",
       "        [0.],\n",
       "        [1.],\n",
       "        [1.],\n",
       "        [0.],\n",
       "        [0.],\n",
       "        [1.]])"
      ]
     },
     "execution_count": 60,
     "metadata": {},
     "output_type": "execute_result"
    }
   ],
   "source": [
    "X_train, X_test, Y_train, Y_test = train_test_split(X, y, test_size=0.2)\n",
    "Y_train"
   ]
  },
  {
   "cell_type": "code",
   "execution_count": 64,
   "id": "e447d18f",
   "metadata": {},
   "outputs": [
    {
     "name": "stdout",
     "output_type": "stream",
     "text": [
      "Epoch 20, Loss: 0.0017\n",
      "Epoch 40, Loss: 0.0004\n",
      "Epoch 60, Loss: 0.0002\n",
      "Epoch 80, Loss: 0.0001\n",
      "Epoch 100, Loss: 0.0001\n"
     ]
    }
   ],
   "source": [
    "for epoch in range(100):\n",
    "    outputs = model(X_train)\n",
    "    loss = criterion(outputs, Y_train)\n",
    " \n",
    "    optimizer.zero_grad()\n",
    "    loss.backward()\n",
    "    optimizer.step()\n",
    " \n",
    "    if (epoch + 1) % 20 == 0:\n",
    "        print(f\"Epoch {epoch+1}, Loss: {loss.item():.4f}\")"
   ]
  },
  {
   "cell_type": "code",
   "execution_count": 72,
   "id": "d086415f",
   "metadata": {},
   "outputs": [
    {
     "name": "stdout",
     "output_type": "stream",
     "text": [
      "tensor([[False],\n",
      "        [ True],\n",
      "        [ True],\n",
      "        [ True],\n",
      "        [False],\n",
      "        [False],\n",
      "        [ True],\n",
      "        [ True],\n",
      "        [False]])\n",
      "Result :  [0.0, 1.0, 0.0, 0.0, 1.0, 1.0, 0.0, 1.0, 0.0]\n",
      "Actual :  [1.0, 1.0, 0.0, 0.0, 0.0, 0.0, 0.0, 1.0, 1.0]\n"
     ]
    }
   ],
   "source": [
    "with torch.no_grad():\n",
    "    outputs = model(X_test).round()\n",
    "    print((outputs == Y_test))\n",
    "    print(\"Result : \", outputs.view(-1).tolist())\n",
    "    print(\"Actual : \", Y_test.view(-1).tolist())\n"
   ]
  }
 ],
 "metadata": {
  "kernelspec": {
   "display_name": "cudaEnv",
   "language": "python",
   "name": "python3"
  },
  "language_info": {
   "codemirror_mode": {
    "name": "ipython",
    "version": 3
   },
   "file_extension": ".py",
   "mimetype": "text/x-python",
   "name": "python",
   "nbconvert_exporter": "python",
   "pygments_lexer": "ipython3",
   "version": "3.11.11"
  }
 },
 "nbformat": 4,
 "nbformat_minor": 5
}
